version https://git-lfs.github.com/spec/v1
oid sha256:ef3d49ccdb1d42dea05f9abd7d5384d6b9e4a52fbf2f22c2fece0fab8ae30ace
size 3039728
