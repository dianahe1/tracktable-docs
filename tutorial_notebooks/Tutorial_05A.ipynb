version https://git-lfs.github.com/spec/v1
oid sha256:777efc9ddd9cbf0c9dd4803e24ccc7f6028e2a93764f61814a88d9a0543c4433
size 7595991
