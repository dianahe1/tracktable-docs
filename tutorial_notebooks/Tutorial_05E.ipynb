version https://git-lfs.github.com/spec/v1
oid sha256:6f30152b40fbf63bbdc860d01ed465380af0107f878c567a5eb65c5ca7c46db1
size 44987035
