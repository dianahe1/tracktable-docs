version https://git-lfs.github.com/spec/v1
oid sha256:309cb641ea10199c24ea9f80c4a8b3ca8db24cd4f6d998270fc53b3117567e3a
size 534719
